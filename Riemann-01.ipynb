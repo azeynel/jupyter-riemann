{
 "cells": [
  {
   "cell_type": "markdown",
   "id": "6fd4183b-27db-4f12-a01e-936b0f21f946",
   "metadata": {},
   "source": [
    "$$\\zeta(s) = 2^s \\; \\pi^{s-1} \\; \\sin(\\frac{\\pi s}{2})\\; \\Gamma(1-s) \\; \\zeta(1-s)$$"
   ]
  },
  {
   "cell_type": "markdown",
   "id": "32723ccc-8647-4242-82dc-aefd13a9d8d5",
   "metadata": {},
   "source": [
    "This is a version of the functional equation for Riemann zeta."
   ]
  },
  {
   "cell_type": "markdown",
   "id": "21a65826-6b12-40ab-9c33-e8f5988667d6",
   "metadata": {},
   "source": [
    "$$\\displaystyle\n",
    "\\zeta(s) = \\frac{\\pi^{\\frac{s}{2}}}{\\Gamma(\\frac{s}{2})} \\left\\{-\\frac{1}{s(1-s)} + \\int_{1}^{\\infty} \\left[ x^{\\frac{s}{2} - 1} + x^{-(\\frac{s+1}{2})} \\right] \\psi(x)\\,dx \\right\\}$$"
   ]
  },
  {
   "cell_type": "markdown",
   "id": "3b260bb7-7838-4f9f-9545-a75efa1525fe",
   "metadata": {},
   "source": [
    "This is another version of the functional equation for Riemann zeta function"
   ]
  },
  {
   "cell_type": "code",
   "execution_count": null,
   "id": "88cf8bfc-5d70-48f3-bb20-5b94873c68d4",
   "metadata": {},
   "outputs": [],
   "source": []
  }
 ],
 "metadata": {
  "kernelspec": {
   "display_name": "Python 3 (ipykernel)",
   "language": "python",
   "name": "python3"
  },
  "language_info": {
   "codemirror_mode": {
    "name": "ipython",
    "version": 3
   },
   "file_extension": ".py",
   "mimetype": "text/x-python",
   "name": "python",
   "nbconvert_exporter": "python",
   "pygments_lexer": "ipython3",
   "version": "3.12.2"
  }
 },
 "nbformat": 4,
 "nbformat_minor": 5
}
